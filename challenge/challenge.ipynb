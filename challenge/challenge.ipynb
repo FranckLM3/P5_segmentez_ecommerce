{
 "cells": [
  {
   "cell_type": "code",
   "execution_count": 5,
   "id": "aff63ad2-5338-445b-82c7-19bb37bc36b3",
   "metadata": {},
   "outputs": [],
   "source": [
    "# Library import\n",
    "import pandas as pd\n",
    "import numpy as np\n",
    "\n",
    "from sklearn.preprocessing import StandardScaler\n",
    "from sklearn.cluster import KMeans\n",
    "from sklearn.metrics import *\n",
    "\n",
    "import pickle"
   ]
  },
  {
   "cell_type": "code",
   "execution_count": 14,
   "id": "22daee6e-442a-4e69-a040-1e26c377cfef",
   "metadata": {},
   "outputs": [
    {
     "name": "stdout",
     "output_type": "stream",
     "text": [
      "Data for Modeling: (2691, 5)\n",
      "Unseen data for predictions: (142, 5)\n"
     ]
    }
   ],
   "source": [
    "# Load data a separate into training and test set \n",
    "df = pd.read_csv('DRV_customer_clustering.csv')\n",
    "\n",
    "# Selection of the good features\n",
    "selected_features = ['recency',\n",
    "                     'frequency',\n",
    "                     'monetary_value',\n",
    "                     'avg_review_score',\n",
    "                     'customer_city_size']\n",
    "\n",
    "df = df[selected_features]\n",
    "\n",
    "data = df.sample(frac=.95, random_state=789)\n",
    "data_unseen = df.drop(data.index)\n",
    "data.reset_index(inplace=True, drop=True)\n",
    "data_unseen.reset_index(inplace=True, drop=True)\n",
    "\n",
    "print('Data for Modeling: ' + str(data.shape))\n",
    "print('Unseen data for predictions: ' + str(data_unseen.shape))"
   ]
  },
  {
   "cell_type": "code",
   "execution_count": 16,
   "id": "0d6ea634-44ed-4b26-af9b-da52a678f25b",
   "metadata": {},
   "outputs": [
    {
     "data": {
      "text/plain": [
       "KMeans(max_iter=1000, n_clusters=5, random_state=0)"
      ]
     },
     "execution_count": 16,
     "metadata": {},
     "output_type": "execute_result"
    }
   ],
   "source": [
    "# Preprocessing of features\n",
    "scaler = StandardScaler()\n",
    "\n",
    "X_scaled = scaler.fit_transform(df)\n",
    "\n",
    "X_scaled\n",
    "\n",
    "# Best model fitting\n",
    "best_model = KMeans(n_clusters=5,\n",
    "                    max_iter=1000,\n",
    "                    n_init=10,\n",
    "                    random_state=0)\n",
    "\n",
    "best_model.fit(X_scaled)"
   ]
  },
  {
   "cell_type": "code",
   "execution_count": 17,
   "id": "7c22322d-da92-4659-b9c0-e7a279f0246e",
   "metadata": {},
   "outputs": [],
   "source": [
    "# Save model as a pickle file\n",
    "\n",
    "with open('challenge_model', 'wb') as file:\n",
    "    pickle.dump(best_model, file)\n",
    "\n",
    "with open('challenge_scaler', 'wb') as file:\n",
    "    pickle.dump(scaler, file)"
   ]
  },
  {
   "cell_type": "code",
   "execution_count": 18,
   "id": "41a7f4f2-3ea5-49d2-9d03-5ca5009bc840",
   "metadata": {},
   "outputs": [],
   "source": [
    "# Open the saved model and scaler\n",
    "with open('pickle_model', 'rb') as file:\n",
    "    model = pickle.load(file)\n",
    "\n",
    "with open('pickle_scaler', 'rb') as file:\n",
    "    scaler = pickle.load(file)"
   ]
  },
  {
   "cell_type": "code",
   "execution_count": 19,
   "id": "c3fa5a39-d192-41a2-b2f1-d003181edb56",
   "metadata": {},
   "outputs": [],
   "source": [
    "# Predict on test set \n",
    "\n",
    "data_unseen_scaled = scaler.transform(data_unseen)\n",
    "\n",
    "data_unseen['cluster'] = model.predict(data_unseen_scaled)"
   ]
  },
  {
   "cell_type": "code",
   "execution_count": 20,
   "id": "8eee6525-942f-487e-87f6-1bfaf3889c98",
   "metadata": {},
   "outputs": [
    {
     "data": {
      "text/html": [
       "<div>\n",
       "<style scoped>\n",
       "    .dataframe tbody tr th:only-of-type {\n",
       "        vertical-align: middle;\n",
       "    }\n",
       "\n",
       "    .dataframe tbody tr th {\n",
       "        vertical-align: top;\n",
       "    }\n",
       "\n",
       "    .dataframe thead th {\n",
       "        text-align: right;\n",
       "    }\n",
       "</style>\n",
       "<table border=\"1\" class=\"dataframe\">\n",
       "  <thead>\n",
       "    <tr style=\"text-align: right;\">\n",
       "      <th></th>\n",
       "      <th>recency</th>\n",
       "      <th>frequency</th>\n",
       "      <th>monetary_value</th>\n",
       "      <th>avg_review_score</th>\n",
       "      <th>customer_city_size</th>\n",
       "      <th>cluster</th>\n",
       "    </tr>\n",
       "  </thead>\n",
       "  <tbody>\n",
       "    <tr>\n",
       "      <th>0</th>\n",
       "      <td>163</td>\n",
       "      <td>2</td>\n",
       "      <td>194.57</td>\n",
       "      <td>5.0</td>\n",
       "      <td>11253503.0</td>\n",
       "      <td>2</td>\n",
       "    </tr>\n",
       "    <tr>\n",
       "      <th>1</th>\n",
       "      <td>57</td>\n",
       "      <td>4</td>\n",
       "      <td>71.88</td>\n",
       "      <td>4.0</td>\n",
       "      <td>11253503.0</td>\n",
       "      <td>2</td>\n",
       "    </tr>\n",
       "    <tr>\n",
       "      <th>2</th>\n",
       "      <td>472</td>\n",
       "      <td>2</td>\n",
       "      <td>99.45</td>\n",
       "      <td>5.0</td>\n",
       "      <td>31309.0</td>\n",
       "      <td>0</td>\n",
       "    </tr>\n",
       "    <tr>\n",
       "      <th>3</th>\n",
       "      <td>385</td>\n",
       "      <td>2</td>\n",
       "      <td>514.49</td>\n",
       "      <td>1.0</td>\n",
       "      <td>11253503.0</td>\n",
       "      <td>3</td>\n",
       "    </tr>\n",
       "    <tr>\n",
       "      <th>4</th>\n",
       "      <td>277</td>\n",
       "      <td>2</td>\n",
       "      <td>423.86</td>\n",
       "      <td>4.5</td>\n",
       "      <td>463731.0</td>\n",
       "      <td>0</td>\n",
       "    </tr>\n",
       "  </tbody>\n",
       "</table>\n",
       "</div>"
      ],
      "text/plain": [
       "   recency  frequency  monetary_value  avg_review_score  customer_city_size  \\\n",
       "0      163          2          194.57               5.0          11253503.0   \n",
       "1       57          4           71.88               4.0          11253503.0   \n",
       "2      472          2           99.45               5.0             31309.0   \n",
       "3      385          2          514.49               1.0          11253503.0   \n",
       "4      277          2          423.86               4.5            463731.0   \n",
       "\n",
       "   cluster  \n",
       "0        2  \n",
       "1        2  \n",
       "2        0  \n",
       "3        3  \n",
       "4        0  "
      ]
     },
     "execution_count": 20,
     "metadata": {},
     "output_type": "execute_result"
    }
   ],
   "source": [
    "data_unseen.head()"
   ]
  },
  {
   "cell_type": "code",
   "execution_count": 21,
   "id": "cc615e10-1974-4f52-bb6d-7da4c039927c",
   "metadata": {},
   "outputs": [
    {
     "data": {
      "text/plain": [
       "array([2, 0, 3, 1, 4], dtype=int32)"
      ]
     },
     "execution_count": 21,
     "metadata": {},
     "output_type": "execute_result"
    }
   ],
   "source": [
    "data_unseen['cluster'].unique()"
   ]
  },
  {
   "cell_type": "code",
   "execution_count": null,
   "id": "e1eaea13-d6ef-4802-8da7-ec4c20a5018b",
   "metadata": {},
   "outputs": [],
   "source": []
  }
 ],
 "metadata": {
  "kernelspec": {
   "display_name": "Python 3 (ipykernel)",
   "language": "python",
   "name": "python3"
  },
  "language_info": {
   "codemirror_mode": {
    "name": "ipython",
    "version": 3
   },
   "file_extension": ".py",
   "mimetype": "text/x-python",
   "name": "python",
   "nbconvert_exporter": "python",
   "pygments_lexer": "ipython3",
   "version": "3.8.12"
  }
 },
 "nbformat": 4,
 "nbformat_minor": 5
}
